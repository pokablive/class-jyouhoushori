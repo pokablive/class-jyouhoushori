{
  "cells": [
    {
      "cell_type": "markdown",
      "metadata": {
        "colab_type": "text",
        "id": "view-in-github"
      },
      "source": [
        "<a href=\"https://colab.research.google.com/github/pokablive/class-jyouhoushori/blob/main/ae_ipynb_git.ipynb\" target=\"_parent\"><img src=\"https://colab.research.google.com/assets/colab-badge.svg\" alt=\"Open In Colab\"/></a>"
      ]
    },
    {
      "cell_type": "markdown",
      "metadata": {
        "id": "K8SoBQuUOXOn"
      },
      "source": [
        "# Auto Encoder\n",
        "\n",
        "AE; Auto Encoder, 自己符号化器\n",
        "\n",
        "![](https://cdn-ak.f.st-hatena.com/images/fotolife/n/nkdkccmbr/20161006/20161006215630.png)  \n",
        "オートエンコーダのイメージ  \n",
        "出典：[オートエンコーダ-- ニューラルネットワーク・DeepLearningなどの画像素材　プレゼン・ゼミなどに【WTFPL】](https://nkdkccmbr.hateblo.jp/entry/2016/10/06/222245)"
      ]
    },
    {
      "cell_type": "code",
      "execution_count": 1,
      "metadata": {
        "colab": {
          "base_uri": "https://localhost:8080/"
        },
        "id": "K3emrGf3QA63",
        "outputId": "07c3128a-b22f-4af8-a80c-85e1e36ca5c7"
      },
      "outputs": [
        {
          "name": "stdout",
          "output_type": "stream",
          "text": [
            "Requirement already satisfied: skorch in /Users/sasakiyuto/miniforge3/envs/class/lib/python3.9/site-packages (0.14.0)\n",
            "Requirement already satisfied: numpy>=1.13.3 in /Users/sasakiyuto/miniforge3/envs/class/lib/python3.9/site-packages (from skorch) (1.24.3)\n",
            "Requirement already satisfied: scikit-learn>=0.22.0 in /Users/sasakiyuto/miniforge3/envs/class/lib/python3.9/site-packages (from skorch) (1.0.2)\n",
            "Requirement already satisfied: scipy>=1.1.0 in /Users/sasakiyuto/miniforge3/envs/class/lib/python3.9/site-packages (from skorch) (1.9.3)\n",
            "Requirement already satisfied: tabulate>=0.7.7 in /Users/sasakiyuto/miniforge3/envs/class/lib/python3.9/site-packages (from skorch) (0.9.0)\n",
            "Requirement already satisfied: tqdm>=4.14.0 in /Users/sasakiyuto/miniforge3/envs/class/lib/python3.9/site-packages (from skorch) (4.65.0)\n",
            "Requirement already satisfied: joblib>=0.11 in /Users/sasakiyuto/miniforge3/envs/class/lib/python3.9/site-packages (from scikit-learn>=0.22.0->skorch) (1.1.0)\n",
            "Requirement already satisfied: threadpoolctl>=2.0.0 in /Users/sasakiyuto/miniforge3/envs/class/lib/python3.9/site-packages (from scikit-learn>=0.22.0->skorch) (2.2.0)\n"
          ]
        }
      ],
      "source": [
        "! pip install skorch"
      ]
    },
    {
      "cell_type": "code",
      "execution_count": 2,
      "metadata": {
        "id": "i7EVVRQWOXOo",
        "tags": [
          "hide-input",
          "hide-output"
        ]
      },
      "outputs": [
        {
          "name": "stderr",
          "output_type": "stream",
          "text": [
            "/Users/sasakiyuto/miniforge3/envs/class/lib/python3.9/site-packages/tqdm/auto.py:21: TqdmWarning: IProgress not found. Please update jupyter and ipywidgets. See https://ipywidgets.readthedocs.io/en/stable/user_install.html\n",
            "  from .autonotebook import tqdm as notebook_tqdm\n"
          ]
        }
      ],
      "source": [
        "# packageのimport\n",
        "import math\n",
        "from datetime import datetime\n",
        "from typing import Any, Union, Callable, Type, TypeVar\n",
        "from tqdm.auto import trange,tqdm\n",
        "import numpy as np\n",
        "import numpy.typing as npt\n",
        "import pandas as pd\n",
        "import matplotlib.pyplot as plt\n",
        "import plotly.express as px\n",
        "import seaborn as sns\n",
        "plt.style.use(\"bmh\")\n",
        "from sklearn.manifold import TSNE\n",
        "\n",
        "# pytorch関連のimport\n",
        "import torch\n",
        "import torch.nn as nn\n",
        "import torch.nn.functional as F\n",
        "import torch.optim as optim\n",
        "from torch.utils.data import Dataset, DataLoader\n",
        "import torchvision\n",
        "import torchvision.transforms as transforms\n",
        "import skorch\n",
        "from skorch import NeuralNet, NeuralNetClassifier, NeuralNetRegressor\n",
        "\n",
        "# animation\n",
        "from matplotlib.animation import ArtistAnimation\n",
        "from IPython.display import display, Markdown, HTML"
      ]
    },
    {
      "cell_type": "code",
      "execution_count": 3,
      "metadata": {
        "colab": {
          "base_uri": "https://localhost:8080/"
        },
        "id": "mCfYw5m_OXOp",
        "outputId": "4bc10d66-1754-4943-ae8a-8d5df0168a26"
      },
      "outputs": [
        {
          "name": "stdout",
          "output_type": "stream",
          "text": [
            "pytorch ver.: 2.0.0\n",
            "numpy ver.: 1.24.3\n",
            "Apple Siliconが使える: True\n",
            "CUDAが使える: False\n",
            "Python 3.9.16 | packaged by conda-forge | (main, Feb  1 2023, 21:38:11) \n",
            "[Clang 14.0.6 ]\n"
          ]
        }
      ],
      "source": [
        "print(\"pytorch ver.:\",torch.__version__)\n",
        "print(\"numpy ver.:\",np.__version__)\n",
        "print(\"Apple Siliconが使える:\", torch.backends.mps.is_available())\n",
        "print(\"CUDAが使える:\", torch.cuda.is_available())\n",
        "!python -VV"
      ]
    },
    {
      "cell_type": "markdown",
      "metadata": {
        "id": "-aYggno7OXOq"
      },
      "source": [
        "## Auto Encoderとは"
      ]
    },
    {
      "cell_type": "markdown",
      "metadata": {
        "id": "1yxBeL-IOXOq"
      },
      "source": [
        "このノートにおける __AutoEncoder__（以降 __AE__）{cite:ps}`Hinton2006-yj`とは，ニューラル自己符号化器と呼ばれるものを指します．私たちは単にこれをAEと呼び，入力されたデータベクトル（テンソル）を，より次元の小さいベクトルに圧縮した後に，そのベクトルを使って元のデータを再構築するようなニューラルネットワークを指します．\n",
        "\n",
        "例えば28x28x1の画像データは，flattenすると784個の要素があることがわかりますね．これを50次元のベクトルに圧縮するニューラルネットワークを用意し，更に圧縮表現から元の784要素に戻すニューラルネットワークを作るのが今回の試みです．個別のネットワークとしてもいいですし，一気通貫に圧縮と展開を担うニューラルネットワークを作っても良いでしょう．このようにデータを圧縮するネットワーク（モジュール）を __Encoder（エンコーダー）__ ，圧縮されたベクトルを元にデータを再構築するのを __Decoder（デコーダー）__ と呼びます．\n",
        "\n",
        "また，Encoderはデータ点を元あった空間から潜在的な変数空間へマップする作業をしていると考えられるので，圧縮されたベクトルを __潜在ベクトル__ などと呼ぶこともあります．\n",
        "\n",
        "> ![](https://camo.qiitausercontent.com/fa16c4be587b9e9b61e9c803c683f0ffafcf8690/68747470733a2f2f71696974612d696d6167652d73746f72652e73332e616d617a6f6e6177732e636f6d2f302f3135353631392f39336638316537642d663766612d396138382d383636372d3538646231666330316330332e706e67)  \n",
        "出典：[AutoEncoder, VAE, CVAEの比較　〜なぜVAEは連続的な画像を生成できるのか？〜 - Qiita](https://qiita.com/kenchin110100/items/7ceb5b8e8b21c551d69a )\n",
        "\n",
        "このようにあるデータを，元の次元数より小さい次元数のベクトルなどに圧縮する技術のことを，__次元削減（Dimensionality reduction, dimension reduction）__ と呼びます．\n",
        "\n",
        ":::{note}  \n",
        ":class: dropdown\n",
        "\n",
        "圧縮という言葉が出てきたので，圧縮方法の二つの大別について紹介しておきます．\n",
        "\n",
        "\n",
        "__可逆圧縮（ロスレス圧縮）__ : 圧縮ファイルを展開すると元のファイルを完全に復元することができます．\n",
        "- zip\n",
        "- rar\n",
        "- 7zip\n",
        "\n",
        "__不可逆圧縮__ : : 圧縮ファイルを展開しても元のファイルを完全に復元することができませんが，一般に圧縮率が高いのが特徴です．\n",
        "- jpg\n",
        "- mp3\n",
        "- mp4\n",
        "\n",
        ":::\n",
        "\n"
      ]
    },
    {
      "cell_type": "markdown",
      "metadata": {
        "id": "Os5jsO7gOXOq"
      },
      "source": [
        "## AutoEncoderのアーキテクチャと実装"
      ]
    },
    {
      "cell_type": "markdown",
      "metadata": {
        "id": "dsNh8ve8OXOr"
      },
      "source": [
        "### 最もシンプルなAE"
      ]
    },
    {
      "cell_type": "markdown",
      "metadata": {
        "id": "3VaoZ_HbOXOr"
      },
      "source": [
        "#### 実装\n",
        "\n",
        "最も簡単なAEの構成は，全結合層と適切な活性化関数を用いて，特徴数→圧縮次元数→特徴数の順に変換する三層のニューラルネットワークです．  \n",
        "ここでは入力されるデータベクトルの各要素が0~1の範囲の値であるとして考えていきます．そのため，出力層の活性化関数はSigmoidにしてあります．また，pytorchにおいて画像データは一枚一枚が[チャネル, 縦, 横]の配列で表現されるので，バッチごとにデータを入力するならば[バッチサイズ, チャネル, 縦, 横]の配列になります．これを入力層からデータを入れるときには，これまでのMLPを思い出せば[バッチサイズ, チャネル$\\times$ 縦 $\\times$ 横]の配列にreshapeする必要がありそうです．\n",
        "\n",
        "この前提でネットワークを組むと以下のようになります．"
      ]
    },
    {
      "cell_type": "code",
      "execution_count": 4,
      "metadata": {
        "colab": {
          "base_uri": "https://localhost:8080/",
          "height": 196
        },
        "id": "e9KB4KsuOXOr",
        "outputId": "c26e4159-f00f-44df-d68c-67bfaa4e57cb"
      },
      "outputs": [
        {
          "data": {
            "text/plain": [
              "SimpleAE(\n",
              "  (encoder): Sequential(\n",
              "    (0): Linear(in_features=10, out_features=2, bias=True)\n",
              "    (1): Sigmoid()\n",
              "  )\n",
              "  (decoder): Sequential(\n",
              "    (0): Linear(in_features=2, out_features=10, bias=True)\n",
              "    (1): Sigmoid()\n",
              "  )\n",
              ")"
            ]
          },
          "metadata": {},
          "output_type": "display_data"
        }
      ],
      "source": [
        "class SimpleAE(nn.Module):\n",
        "    def __init__(self, in_features:int, n_components:int):\n",
        "        super().__init__()\n",
        "        self.in_features = in_features\n",
        "        self.n_components = n_components\n",
        "        # build layers\n",
        "        self.encoder = nn.Sequential(\n",
        "            nn.Linear(self.in_features, self.n_components),\n",
        "            nn.Sigmoid(),\n",
        "        )\n",
        "        self.decoder = nn.Sequential(\n",
        "            nn.Linear(self.n_components, self.in_features),\n",
        "            nn.Sigmoid(),\n",
        "        )\n",
        "\n",
        "    def forward(self, x:torch.Tensor):\n",
        "        encoded = self.encoder(x)\n",
        "        return encoded, self.decoder(encoded)\n",
        "\n",
        "ae = SimpleAE(10,2)\n",
        "display(ae)"
      ]
    },
    {
      "cell_type": "markdown",
      "metadata": {
        "id": "7rnAq3DROXOr"
      },
      "source": [
        "わかりやすいように，Encoder部分とDecoder部分をそれぞれnn.Sequentialインスタンスとしています．また，このモデルの損失関数には再構成誤差を用います．ここでは具体例として二乗和誤差を使うことにします．"
      ]
    },
    {
      "cell_type": "markdown",
      "metadata": {
        "id": "Bh57eNPSOXOs"
      },
      "source": [
        "#### チューニング\n",
        "\n",
        "この構成で良い結果が得られない場合は以下のことを検討すると良いでしょう．\n",
        "\n",
        "1. バッチノーマライゼーションの追加\n",
        "2. 活性化関数を変更\n",
        "3. より深層化\n",
        "4. 正則化項の追加"
      ]
    },
    {
      "cell_type": "markdown",
      "metadata": {
        "id": "TXH0UWRzOXOs"
      },
      "source": [
        "### Weight Tying/ Weight Sharing"
      ]
    },
    {
      "cell_type": "markdown",
      "metadata": {
        "id": "1YQU2hsOOXOs"
      },
      "source": [
        "#### Weight Tyingを使った線形変換レイヤの実装\n",
        "\n",
        "「最もシンプルなAE」から更に，パラメータ数を減らしてみましょう．ここで使うのが __Weight Tying__ や __Weight Sharing__ と呼ばれるテクニックです．これはいくつかのレイヤーで結合重みを共有するというアプローチです．膨大な特徴量を受け取るようなnn.Linearクラスの重みを使い回すことでメモリを節約できます．ここではEncoderの全結合層とDecoderの全結合層の結合重みを共有します．"
      ]
    },
    {
      "cell_type": "code",
      "execution_count": 5,
      "metadata": {
        "id": "zUtDGD9AOXOs"
      },
      "outputs": [],
      "source": [
        "class WeightTyingLinear(nn.Module):\n",
        "    \"\"\"ほぼnn.Linearと同じで，結合重みだけ別のnn.Linearインスタンスを利用するクラス\"\"\"\n",
        "    def __init__(self, shared_weights:torch.Tensor,bias:bool=True,\n",
        "                 device=None, dtype=None) -> None:\n",
        "        factory_kwargs = {'device': device, 'dtype': dtype}\n",
        "        super().__init__()\n",
        "\n",
        "        self.weight = shared_weights.T\n",
        "        self.out_features,self.in_features = self.weight.size()\n",
        "        if bias:\n",
        "            self.bias = nn.Parameter(torch.empty((self.out_features), **factory_kwargs))\n",
        "        else:\n",
        "            self.register_parameter('bias', None)\n",
        "        self.reset_parameters()\n",
        "\n",
        "    def reset_parameters(self) -> None:\n",
        "        # Setting a=sqrt(5) in kaiming_uniform is the same as initializing with\n",
        "        # uniform(-1/sqrt(in_features), 1/sqrt(in_features)). For details, see\n",
        "        # https://github.com/pytorch/pytorch/issues/57109\n",
        "        nn.init.kaiming_uniform_(self.weight, a=math.sqrt(5))\n",
        "        if self.bias is not None:\n",
        "            fan_in, _ = nn.init._calculate_fan_in_and_fan_out(self.weight)\n",
        "            bound = 1 / math.sqrt(fan_in) if fan_in > 0 else 0\n",
        "            nn.init.uniform_(self.bias, -bound, bound)\n",
        "\n",
        "    def forward(self, input: torch.Tensor) -> torch.Tensor:\n",
        "        return F.linear(input, self.weight, self.bias)\n",
        "\n",
        "    def extra_repr(self) -> str:\n",
        "        return 'in_features={}, out_features={}, bias={}'.format(\n",
        "            self.in_features, self.out_features, self.bias is not None\n",
        "        )"
      ]
    },
    {
      "cell_type": "markdown",
      "metadata": {
        "id": "IW3LEcg5OXOs"
      },
      "source": [
        "#### 重みの受け取りとbiasの初期化\n",
        "\n",
        "コンストラクタでshared_weightsとしてencoder側の重みを受け取り，これを使ってforwardメソッドで全結合層の処理を行います．biasは共有できない（encoderとdecoderではshapeが違います）ので，コンストラクタの中で初期化しています．\n",
        "- nn.Parameterクラス\n",
        "    - nn.Moduleのコンストラクタで学習可能パラメータを用意するためのクラスです．\n",
        "- reset_parametersメソッド\n",
        "    - nn.Linearから借用したメソッドです．self.biasはとりあえずtorch.emptyで初期化してありますが，これはモダンなbiasの初期化方法ではないのでreset_parametersメソッドで改めて初期化を行っています．\n",
        "    - 具体的にはHeの初期化{cite}`He2015-rc` を行います．"
      ]
    },
    {
      "cell_type": "markdown",
      "metadata": {
        "id": "qzKBgiZ6OXOs"
      },
      "source": [
        "#### extra_reprメソッド\n",
        "\n",
        "extra_reprメソッドには「このクラスのインスタンスを直接printしたときに表示したい文字列」を返り値として設定してあげます．今回の実装だと例えば：\n",
        "```\n",
        "WeightTyingLinear(in_features=2, out_features=10, bias=True)\n",
        "```\n",
        "のような表示がされるはずです．今回は[nn.Linearクラスの実装](https://pytorch.org/docs/stable/_modules/torch/nn/modules/linear.html#Linear)を参考にしているので，自作レイヤを作る際には公式実装を読んで書き方を掴んでください．\n",
        "\n",
        "\n",
        "::::{admonition} extra_reprメソッドとその周辺\n",
        ":class: tip\n",
        ":class: dropdown\n",
        "\n",
        "extra_reprメソッドは，nn.Moduleサブクラスのインスタンスをprintした際に表示される文字列を設定するメソッドです．\\__str\\__や\\__repr\\__のように一般的なPythonクラスに用意された特殊メソッドではなく，nn.Module独自のメソッドになります．\n",
        "\n",
        "- `extra_repr`メソッド\n",
        "    - クラスの名前や内部のパラメータの形状などを出力させます．\n",
        "- `__str__`メソッド\n",
        "    - 人間にとってわかりやすく，画面に表示しやすいオブジェクトの表現を出力させます．（した方がいいです）\n",
        "- `__repr__`メソッド\n",
        "    - eval関数で評価すると元のオブジェクトに戻るような，Pythonが元のオブジェクトを復元できるオブジェクト表現を出力させます．（した方がいいです）\n",
        "\n",
        "何の設定もしていない自作クラスがどのように表示されるかを見てみましょう：  \n",
        "\n",
        "In[]\n",
        "```python\n",
        "class temp:\n",
        "    ...\n",
        "\n",
        "obj = temp()\n",
        "\n",
        "print(\"普通にprintした時に表示されるもの:\\t\",obj)\n",
        "print(\"オブジェクトのid:\\t\\t\\t\",id(obj))\n",
        "print(\"オブジェクトのidを16進数にしたもの:\\t\", hex(id(obj)))\n",
        "```\n",
        "Out[]\n",
        "```\n",
        "普通にprintした時に表示されるもの:\t <__main__.temp object at 0x104e7b370>\n",
        "オブジェクトのid:\t\t\t 4377260912\n",
        "オブジェクトのidを16進数にしたもの:\t 0x104e7b370\n",
        "```\n",
        "\n",
        "特に何の設定もしていない自作クラスをprintすると，オブジェクトのid（識別子）が16進数で表示されるようです．また，おそらく皆さんはCPythonを利用しているはずなので，このオブジェクトidにはメモリアドレスが利用されています．\n",
        "\n",
        "```\n",
        ">>> id?\n",
        "Signature: id(obj, /)\n",
        "Docstring:\n",
        "Return the identity of an object.\n",
        "\n",
        "This is guaranteed to be unique among simultaneously existing objects.\n",
        "(CPython uses the object's memory address.)\n",
        "Type:      builtin_function_or_method`\n",
        "```\n",
        "\n",
        "ただし，id関数のdocstringには  \n",
        "> これは同時に存在するオブジェクトの中で一意であることが保証されています。(CPythonはオブジェクトのメモリアドレスを使います)。\n",
        "\n",
        "と書かれているだけなので，逆説的に，CPython以外のPython実装では，オブジェクトidがメモリアドレスだとは限らないことに注意です．\n",
        "\n",
        "::::"
      ]
    },
    {
      "cell_type": "markdown",
      "metadata": {
        "id": "DPgjyrqLOXOs"
      },
      "source": [
        "#### Auto Encoderクラスの実装"
      ]
    },
    {
      "cell_type": "markdown",
      "metadata": {
        "id": "YQTZYJCuOXOs"
      },
      "source": [
        "AEクラスは前述のものとほぼ同じです．"
      ]
    },
    {
      "cell_type": "code",
      "execution_count": 6,
      "metadata": {
        "id": "vLmDpMTlOXOs"
      },
      "outputs": [],
      "source": [
        "class WeightTyingAE(nn.Module):\n",
        "    def __init__(self, in_features:int, n_components:int):\n",
        "        super().__init__()\n",
        "        self.in_features = in_features\n",
        "        self.n_components = n_components\n",
        "        # build layers\n",
        "        self.encoder = nn.Sequential(\n",
        "            nn.Linear(self.in_features, self.n_components),\n",
        "            nn.Sigmoid(),\n",
        "        )\n",
        "        self.decoder = nn.Sequential(\n",
        "            WeightTyingLinear(self.encoder[0].weight),\n",
        "            nn.Sigmoid(),\n",
        "        )\n",
        "\n",
        "    def forward(self, x:torch.Tensor):\n",
        "        encoded = self.encoder(x)\n",
        "        return encoded, self.decoder(encoded)"
      ]
    },
    {
      "cell_type": "markdown",
      "metadata": {
        "id": "ds6aWP-yOXOs"
      },
      "source": [
        "本当にパラメータ共有ができているのかチェックしてみましょう．"
      ]
    },
    {
      "cell_type": "code",
      "execution_count": 7,
      "metadata": {
        "colab": {
          "base_uri": "https://localhost:8080/",
          "height": 553
        },
        "id": "tZmGVdHQOXOs",
        "outputId": "09946344-e142-401b-e8df-49061946a0de"
      },
      "outputs": [
        {
          "data": {
            "text/plain": [
              "WeightTyingAE(\n",
              "  (encoder): Sequential(\n",
              "    (0): Linear(in_features=10, out_features=2, bias=True)\n",
              "    (1): Sigmoid()\n",
              "  )\n",
              "  (decoder): Sequential(\n",
              "    (0): WeightTyingLinear(in_features=2, out_features=10, bias=True)\n",
              "    (1): Sigmoid()\n",
              "  )\n",
              ")"
            ]
          },
          "metadata": {},
          "output_type": "display_data"
        },
        {
          "name": "stdout",
          "output_type": "stream",
          "text": [
            "パラメータが共有されているのかをチェック：\n",
            "------------------------------------------------------------\n",
            ">>> params_0:\n",
            "Parameter containing:\n",
            "tensor([[-0.5121,  0.2254,  0.2371, -0.3775, -0.1436, -0.5366, -0.6161,  0.0915,\n",
            "         -0.1183, -0.2092],\n",
            "        [-0.1322,  0.6922, -0.4579,  0.3749,  0.3511, -0.4215,  0.0939, -0.2502,\n",
            "         -0.1018,  0.4514]], requires_grad=True)\n",
            "torch.Size([2, 10])\n",
            "------------------------------------------------------------\n",
            ">>> params_1:\n",
            "Parameter containing:\n",
            "tensor([-0.2553,  0.0495], requires_grad=True)\n",
            "torch.Size([2])\n",
            "------------------------------------------------------------\n",
            ">>> params_2:\n",
            "Parameter containing:\n",
            "tensor([ 0.6992, -0.3836,  0.3247,  0.3536, -0.2765,  0.6237, -0.7030, -0.2348,\n",
            "        -0.6467,  0.3510], requires_grad=True)\n",
            "torch.Size([10])\n"
          ]
        }
      ],
      "source": [
        "ae2 = WeightTyingAE(10,2)\n",
        "display(ae2)\n",
        "print(\"パラメータが共有されているのかをチェック：\")\n",
        "for ix, params in enumerate(ae2.parameters()):\n",
        "    print(\"--\"*30)\n",
        "    print(f\">>> params_{ix}:\")\n",
        "    print(params)\n",
        "    print(params.shape)"
      ]
    },
    {
      "cell_type": "markdown",
      "metadata": {
        "id": "i5lValhLOXOs"
      },
      "source": [
        "パラメータは4つの配列のはずが，この実装ではWeight Tyingによって一つ削減できていることがわかります．"
      ]
    },
    {
      "cell_type": "markdown",
      "metadata": {
        "id": "XBYQ9tDWOXOs"
      },
      "source": [
        "### 画像の形状を変えずにネットワーククラスに入力する"
      ]
    },
    {
      "cell_type": "markdown",
      "metadata": {
        "id": "H258Q2KIOXOs"
      },
      "source": [
        "入力データの配列をできるだけそのまま（配列の形状を変更せずに[バッチサイズ, チャネル, 縦, 横]のまま）入力することを考えてみましょう．[バッチサイズ, チャネル, 縦, 横]を[バッチサイズ, チャネル$\\times$ 縦 $\\times$ 横]へ変形するための機能は，通常の行列計算ライブラリならflatten関数/メソッドかviewメソッド，またはreshapeメソッドで提供されています．"
      ]
    },
    {
      "cell_type": "code",
      "execution_count": 8,
      "metadata": {
        "colab": {
          "base_uri": "https://localhost:8080/"
        },
        "id": "ygXq2r6COXOt",
        "outputId": "fe12f06c-7973-4c2a-c82a-afe8a477fe18"
      },
      "outputs": [
        {
          "name": "stdout",
          "output_type": "stream",
          "text": [
            "配列aの形状： torch.Size([3, 1, 2, 2])\n",
            "a= tensor([[[[0., 0.],\n",
            "          [0., 0.]]],\n",
            "\n",
            "\n",
            "        [[[0., 0.],\n",
            "          [0., 0.]]],\n",
            "\n",
            "\n",
            "        [[[0., 0.],\n",
            "          [0., 0.]]]])\n",
            "------------------------------------------------------------\n",
            "flattenメソッド:\n",
            "flattenを適用した配列aの形状： torch.Size([3, 4])\n",
            "a= tensor([[0., 0., 0., 0.],\n",
            "        [0., 0., 0., 0.],\n",
            "        [0., 0., 0., 0.]])\n",
            "------------------------------------------------------------\n",
            "viewメソッド:\n",
            "viewを適用した配列aの形状： torch.Size([3, 4])\n",
            "a= tensor([[0., 0., 0., 0.],\n",
            "        [0., 0., 0., 0.],\n",
            "        [0., 0., 0., 0.]])\n",
            "------------------------------------------------------------\n",
            "reshapeメソッド:\n",
            "reshapeを適用した配列aの形状： torch.Size([3, 4])\n",
            "a= tensor([[0., 0., 0., 0.],\n",
            "        [0., 0., 0., 0.],\n",
            "        [0., 0., 0., 0.]])\n"
          ]
        }
      ],
      "source": [
        "a = torch.zeros([3,1,2,2])\n",
        "print(\"配列aの形状：\", a.shape)\n",
        "print(\"a=\", a)\n",
        "\n",
        "print(\"---\"*20)\n",
        "print(\"flattenメソッド:\")\n",
        "a1 = a.flatten(start_dim=1)\n",
        "print(\"flattenを適用した配列aの形状：\", a1.shape)\n",
        "print(\"a=\",a1)\n",
        "\n",
        "print(\"---\"*20)\n",
        "print(\"viewメソッド:\")\n",
        "a2 = a.view((a.shape[0], -1))\n",
        "print(\"viewを適用した配列aの形状：\", a2.shape)\n",
        "print(\"a=\",a2)\n",
        "\n",
        "print(\"---\"*20)\n",
        "print(\"reshapeメソッド:\")\n",
        "a3 = a.reshape((a.shape[0], -1))\n",
        "print(\"reshapeを適用した配列aの形状：\", a3.shape)\n",
        "print(\"a=\",a3)"
      ]
    },
    {
      "cell_type": "markdown",
      "metadata": {
        "id": "rZbZfVCZOXOt"
      },
      "source": [
        "これらのメソッドのどれかをネットワーククラスのforwardクラスの最初に入力配列に対して適用し，出力層の出力をreshapeで入力配列と同じ形状に直すことで，ネットワークの外側で配列の形状を変える必要がなくなります．"
      ]
    },
    {
      "cell_type": "markdown",
      "metadata": {
        "id": "I3kefBTyOXOt"
      },
      "source": [
        "ただし，nn.Sequentialの中に並べるには，nn.Moduleのサブクラスである必要があります．flattenはnn.Flattenというクラスがあるのでこれを使えばいいのですが，Reshapeは対応するクラスがありません．\n",
        "\n",
        ":::{note}\n",
        ":class: dropdown\n",
        "\n",
        "「nn.Sequentialの中に並べるには，nn.Moduleのサブクラスである必要があります．」  \n",
        "例えばnn.Sigmoidの代わりにF.sigmoidをnn.Sequentialに渡した場合：\n",
        "```python\n",
        "nn.Sequential(\n",
        "    nn.Linear(10,20),\n",
        "    F.sigmoid\n",
        "    )\n",
        "```\n",
        "以下のエラーが発生：\n",
        "```\n",
        "---------------------------------------------------------------------------\n",
        "TypeError                                 Traceback (most recent call last)\n",
        "Cell In[384], line 1\n",
        "----> 1 nn.Sequential(\n",
        "      2     nn.Linear(10,20),\n",
        "      3     F.sigmoid\n",
        "      4     )\n",
        "\n",
        "File ~/.pyenv/versions/miniforge3-4.10.3-10/envs/datasci/lib/python3.10/site-packages/torch/nn/modules/container.py:104, in Sequential.__init__(self, *args)\n",
        "    102 else:\n",
        "    103     for idx, module in enumerate(args):\n",
        "--> 104         self.add_module(str(idx), module)\n",
        "\n",
        "File ~/.pyenv/versions/miniforge3-4.10.3-10/envs/datasci/lib/python3.10/site-packages/torch/nn/modules/module.py:596, in Module.add_module(self, name, module)\n",
        "    586 r\"\"\"Adds a child module to the current module.\n",
        "    587\n",
        "    588 The module can be accessed as an attribute using the given name.\n",
        "   (...)\n",
        "    593     module (Module): child module to be added to the module.\n",
        "    594 \"\"\"\n",
        "    595 if not isinstance(module, Module) and module is not None:\n",
        "--> 596     raise TypeError(\"{} is not a Module subclass\".format(\n",
        "    597         torch.typename(module)))\n",
        "    598 elif not isinstance(name, str):\n",
        "    599     raise TypeError(\"module name should be a string. Got {}\".format(\n",
        "    600         torch.typename(name)))\n",
        "\n",
        "TypeError: torch.nn.functional.sigmoid is not a Module subclass\n",
        "```\n",
        "\n",
        ":::\n",
        "\n",
        "こういうときには，nn.Moduleを継承したサブクラスを作成し，その中でreshapeに相当する関数を使うことになります．例えば以下のような形になります：\n",
        "\n",
        "\n",
        "```python\n",
        "class Reshape(nn.Module):\n",
        "    def __init__(self, img_shape:tuple[int]) -> None:\n",
        "        super().__init__()\n",
        "        self.img_shape = img_shape\n",
        "\n",
        "    def forward(self,x:torch.Tensor)->torch.Tensor:\n",
        "        return x.view((x.shape[0], *self.img_shape))\n",
        "    \n",
        "    def extra_repr(self) -> str:\n",
        "        return 'in_features={}, out_img_shape={}'.format(\n",
        "            np.prod(self.img_shape),self.img_shape,\n",
        "        )\n",
        "    \n",
        "class SimpleAE(nn.Module):\n",
        "    def __init__(self, img_shape:tuple[int], n_components:int):\n",
        "        super().__init__()\n",
        "        self.img_shape = img_shape\n",
        "        self.in_features = np.prod(img_shape)\n",
        "        self.n_components = n_components\n",
        "        # build layers\n",
        "        self.encoder = nn.Sequential(\n",
        "            nn.Flatten(), # diff (batch_size, 1, 28, 28)->(batch_size, 1x28x28)\n",
        "            nn.Linear(self.in_features, self.n_components),\n",
        "            nn.Sigmoid(),\n",
        "        )\n",
        "        self.decoder = nn.Sequential(\n",
        "            nn.Linear(self.n_components, self.in_features),\n",
        "            nn.Sigmoid(),\n",
        "            Reshape(self.img_shape) # diff (batch_size, 1x28x28)->(batch_size, 1, 28, 28)\n",
        "        )\n",
        "\n",
        "    def forward(self, x:torch.Tensor):\n",
        "        h = self.encoder(x)\n",
        "        return h, self.decoder(h)\n",
        "```\n",
        "\n"
      ]
    },
    {
      "cell_type": "markdown",
      "metadata": {
        "id": "lXswS21FOXOt"
      },
      "source": [
        "## 実験\n",
        "\n",
        "MNISTデータセット{cite}`Bottou94`を圧縮する実験を行います．また，今回は訓練の進み具合を確認するために，1 epochごとに事前に選んでおいた画像を再構成させてみます．"
      ]
    },
    {
      "cell_type": "markdown",
      "metadata": {
        "id": "puXwYZ4BOXOt"
      },
      "source": [
        "### データの準備"
      ]
    },
    {
      "cell_type": "markdown",
      "metadata": {
        "id": "aBrh-TQsOXOt"
      },
      "source": [
        "skorchを使う場合はtraining/validation splitをskorchがやってくれるので，自分で行う必要がありません．また，DataLoaderの用意もskorchが行うので準備不要です．datasetだけ用意しておきましょう．"
      ]
    },
    {
      "cell_type": "code",
      "execution_count": 9,
      "metadata": {
        "id": "PRYRKz0QOXOt"
      },
      "outputs": [],
      "source": [
        "def load_MNIST_skorch():\n",
        "    transform = transforms.Compose([\n",
        "        transforms.ToTensor(),\n",
        "        #transforms.Normalize((0.1307,), (0.3081,)),\n",
        "        transforms.Lambda(lambda x: torch.flatten(x)),\n",
        "        ])\n",
        "\n",
        "    train_set = torchvision.datasets.MNIST(root=\"./data\",\n",
        "                                           train=True,\n",
        "                                           download=True,\n",
        "                                           transform=transform)\n",
        "\n",
        "    test_set = torchvision.datasets.MNIST(root=\"./data\",\n",
        "                                         train=False,\n",
        "                                         download=True,\n",
        "                                         transform=transform)\n",
        "    return {\"train\":train_set, \"test\": test_set}"
      ]
    },
    {
      "cell_type": "markdown",
      "metadata": {
        "id": "ORFJfskeOXOt"
      },
      "source": [
        "::::{admonition} skorchを使わない場合\n",
        ":class: dropdown\n",
        "\n",
        "skorchを使わない場合は以下のようにMNISTのデータローダを用意しておきます．関数はCNNのところで使ったものと同じです．\n",
        "```python\n",
        "def load_MNIST(batch=128):\n",
        "    transform = transforms.Compose([\n",
        "        transforms.ToTensor(),\n",
        "        #transforms.Normalize((0.1307,), (0.3081,)),\n",
        "        #transforms.Lambda(lambda x: torch.flatten(x))\n",
        "        ])\n",
        "\n",
        "    train_set = torchvision.datasets.MNIST(root=\"./data\",\n",
        "                                           train=True,\n",
        "                                           download=True,\n",
        "                                           transform=transform)\n",
        "    # train_validation_split.\n",
        "    # see also https://qiita.com/takurooo/items/ba8c509eaab080e2752c#%E8%A7%A3%E6%B1%BA%E7%AD%962-torchutilsdatarandom_split.\n",
        "    n_samples = len(train_set) # n_samples is 60000\n",
        "    train_size = int(len(train_set) * 0.8) # train_size is 48000\n",
        "    val_size = n_samples - train_size # val_size is 48000\n",
        "    train_set, val_set = torch.utils.data.random_split(train_set, [train_size, val_size])\n",
        "\n",
        "    train_loader = torch.utils.data.DataLoader(train_set,\n",
        "                                               batch_size=batch,\n",
        "                                               shuffle=True,\n",
        "                                               num_workers=2)\n",
        "    val_loader = torch.utils.data.DataLoader(val_set,\n",
        "                                               batch_size=batch,\n",
        "                                               shuffle=True,\n",
        "                                               num_workers=2)\n",
        "    \n",
        "\n",
        "    test_set = torchvision.datasets.MNIST(root=\"./data\",\n",
        "                                         train=False,\n",
        "                                         download=True,\n",
        "                                         transform=transform)\n",
        "    test_loader =torch.utils.data.DataLoader(test_set,\n",
        "                                            batch_size=batch,\n",
        "                                            shuffle=True,\n",
        "                                            num_workers=2)\n",
        "\n",
        "    return {\"train\":train_loader, \"validation\":val_loader, \"test\": test_loader}\n",
        "```\n",
        "::::"
      ]
    },
    {
      "cell_type": "markdown",
      "metadata": {
        "id": "1gx5fpUyOXOt"
      },
      "source": [
        "一応中身を確認しておきましょう．"
      ]
    },
    {
      "cell_type": "code",
      "execution_count": 10,
      "metadata": {
        "colab": {
          "base_uri": "https://localhost:8080/",
          "height": 917
        },
        "id": "1mAL_LesOXOt",
        "outputId": "5383fc16-d1a6-4c9d-ac6f-99a1ca4e428a"
      },
      "outputs": [
        {
          "name": "stderr",
          "output_type": "stream",
          "text": [
            "/var/folders/ck/c_p4lsds5kzb7y1mk5zh6c0w0000gn/T/ipykernel_11074/157737928.py:12: UserWarning: Matplotlib is currently using module://matplotlib_inline.backend_inline, which is a non-GUI backend, so cannot show the figure.\n",
            "  fig.show()\n"
          ]
        },
        {
          "data": {
            "image/png": "[encoded data removed]",
            "text/plain": [
              "<Figure size 1200x700 with 40 Axes>"
            ]
          },
          "metadata": {},
          "output_type": "display_data"
        }
      ],
      "source": [
        "# 中身を確認しておく．今回は適当に40個取り出してみます．\n",
        "_dataset = load_MNIST_skorch()\n",
        "_train_dataset= _dataset[\"train\"]\n",
        "\n",
        "fig = plt.figure(figsize=[12,7])\n",
        "for ix, batch in enumerate(_train_dataset):\n",
        "    img,y = batch\n",
        "    ax = fig.add_subplot(4,10,ix+1)\n",
        "    ax.imshow(img.view(-1,28), cmap='gray')\n",
        "    if ix == 39:\n",
        "        break\n",
        "fig.show()"
      ]
    },
    {
      "cell_type": "markdown",
      "metadata": {
        "id": "Qiu5-VclOXOt"
      },
      "source": [
        "### 訓練"
      ]
    },
    {
      "cell_type": "markdown",
      "metadata": {
        "id": "iYNiXC4tOXOu"
      },
      "source": [
        "学習スクリプトもskorchに任せることにします．ただし，skorchはクラス分類や回帰用のクラスを用意してくれていますが，AutoEncoder向けのものがないので回帰のもの少し修正して利用します．"
      ]
    },
    {
      "cell_type": "code",
      "execution_count": 11,
      "metadata": {
        "id": "vl3gEHM0OXOu"
      },
      "outputs": [],
      "source": [
        "class NeuralNetAE(NeuralNetRegressor):\n",
        "    def get_loss(self, y_pred, y_true, *args, **kwargs):\n",
        "        encoded, decoded = y_pred\n",
        "        recons_loss = super().get_loss(decoded, kwargs[\"X\"], *args, **kwargs)\n",
        "        return recons_loss"
      ]
    },
    {
      "cell_type": "markdown",
      "metadata": {
        "id": "vRfyAS9tOXOu"
      },
      "source": [
        "y_trueにはfitでyとして渡されたものが入るので，学習データがtensor or arrayでXという変数に入っている場合は`trainer.fit(X,X)`とすることもできます．この場合は\n",
        "```python\n",
        "recons_loss = super().get_loss(decoded, y_true, *args, **kwargs)\n",
        "```\n",
        "とすればいいでしょう．今回は画像データセットを利用するので，全てのデータをXとして持てるか不安なので前述のコードにしてあります．ただし，入力されるXと再構成したいXが異なる場合（入力Xにノイズが入っていて，そこから綺麗なXを再構成したい場合など）は今の書き方は使えないかもしれません．この場合，forwardの中でノイズ付与を行うことになりますが，タスクによっては諦めてtrainer.fit(X,X)を使いましょう．"
      ]
    },
    {
      "cell_type": "markdown",
      "metadata": {
        "id": "DM9Ufd3lOXOu"
      },
      "source": [
        "ハイパーパラメータの定義："
      ]
    },
    {
      "cell_type": "code",
      "execution_count": 12,
      "metadata": {
        "id": "fWsA7_uVOXOx"
      },
      "outputs": [],
      "source": [
        "DEVICE = \"cuda:0\" if torch.cuda.is_available() else \"cpu\"\n",
        "LATENT_DIM = 20\n",
        "LEARNING_RATE = 0.01\n",
        "MAX_EPOCHS = 50\n",
        "BATCH_SIZE = 128"
      ]
    },
    {
      "cell_type": "markdown",
      "metadata": {
        "id": "L6uloiesOXOy"
      },
      "source": [
        "再構成した画像を保存しておくためのコールバック：\n",
        "\n",
        "1. 最初に0~9の画像を一枚ずつ選んでインスタンス変数として持っておく．\n",
        "2. epochごとに画像を再構成させる．\n",
        "3. 再構成画像をインスタンス変数として保持しておく．"
      ]
    },
    {
      "cell_type": "code",
      "execution_count": 13,
      "metadata": {
        "id": "9d6K2m5tOXOy"
      },
      "outputs": [],
      "source": [
        "class ReconsImage(skorch.callbacks.Callback):\n",
        "    @staticmethod\n",
        "    def get_sample():\n",
        "        \"\"\"0~9の数字の手書き文字画像をランダムに一枚ずつ適当に選ぶ\"\"\"\n",
        "        transform = transforms.Compose([\n",
        "            transforms.ToTensor(),])\n",
        "        test_set = torchvision.datasets.MNIST(root=\"./data\",\n",
        "                                            train=False,\n",
        "                                            download=True,\n",
        "                                            transform=transform)\n",
        "        sample = []\n",
        "        i = 0\n",
        "        for x,y in iter(test_set):\n",
        "            if y == i:\n",
        "                sample.append(x)\n",
        "                i+=1\n",
        "            if len(sample) == 10:\n",
        "                break\n",
        "        return sample\n",
        "\n",
        "    def initialize(self):\n",
        "        \"\"\"最初に一度だけ呼ばれる\"\"\"\n",
        "        self.sample_imgs = self.get_sample()\n",
        "        self.fig_anime = plt.figure(figsize=[15,5])\n",
        "        self.axs = []\n",
        "        for i in range(20):\n",
        "            self.axs.append(self.fig_anime.add_subplot(2,10,i+1))\n",
        "\n",
        "        self.frames = []\n",
        "\n",
        "    def on_epoch_end(self, net, dataset_train=None, dataset_valid=None, **kwargs)->None:\n",
        "        \"\"\"epoch終了時に毎回呼ばれる\"\"\"\n",
        "        net.module_.eval()\n",
        "        frame = []\n",
        "        with torch.no_grad():\n",
        "            for i in range(10):\n",
        "                art1 = self.axs[i].imshow(self.sample_imgs[i].view(-1,28).detach().cpu().numpy(),\n",
        "                            cmap='gray')\n",
        "                _, sample_hat = net.module_(self.sample_imgs[i].view([1,-1]).to(net.device))\n",
        "                frame.append(art1)\n",
        "                art2 = self.axs[i+10].imshow(sample_hat.view(-1,28).detach().cpu().numpy(),\n",
        "                                cmap=\"gray\")\n",
        "                frame.append(art2)\n",
        "        self.frames.append(frame)\n",
        "\n",
        "    def on_train_end(self, net, dataset_train=None, dataset_valid=None, **kwargs):\n",
        "        \"\"\"学習終了時に一回だけ呼ばれる\"\"\"\n",
        "        plt.close(self.fig_anime)"
      ]
    },
    {
      "cell_type": "markdown",
      "metadata": {
        "id": "VTnfCGl6OXOy"
      },
      "source": [
        "trainerの用意と訓練メソッドのキック"
      ]
    },
    {
      "cell_type": "code",
      "execution_count": 14,
      "metadata": {
        "colab": {
          "base_uri": "https://localhost:8080/"
        },
        "id": "raz1gnp8OXOy",
        "outputId": "a8a90a0e-dccb-42f7-b5ff-1d287c1ce089",
        "tags": [
          "hide-output"
        ]
      },
      "outputs": [
        {
          "name": "stdout",
          "output_type": "stream",
          "text": [
            "  epoch    train_loss    valid_loss     dur\n",
            "-------  ------------  ------------  ------\n",
            "      1        \u001b[36m0.0668\u001b[0m        \u001b[32m0.0629\u001b[0m  3.3717\n",
            "      2        \u001b[36m0.0620\u001b[0m        \u001b[32m0.0619\u001b[0m  3.6966\n",
            "      3        \u001b[36m0.0587\u001b[0m        \u001b[32m0.0573\u001b[0m  3.2815\n",
            "      4        \u001b[36m0.0547\u001b[0m        \u001b[32m0.0532\u001b[0m  3.3283\n",
            "      5        \u001b[36m0.0528\u001b[0m        \u001b[32m0.0529\u001b[0m  4.4236\n",
            "      6        \u001b[36m0.0515\u001b[0m        \u001b[32m0.0506\u001b[0m  4.3173\n",
            "      7        \u001b[36m0.0494\u001b[0m        \u001b[32m0.0498\u001b[0m  3.6315\n",
            "      8        \u001b[36m0.0472\u001b[0m        \u001b[32m0.0462\u001b[0m  3.5821\n",
            "      9        \u001b[36m0.0436\u001b[0m        \u001b[32m0.0425\u001b[0m  3.9995\n",
            "     10        \u001b[36m0.0416\u001b[0m        \u001b[32m0.0418\u001b[0m  4.0950\n",
            "     11        \u001b[36m0.0410\u001b[0m        \u001b[32m0.0415\u001b[0m  3.9670\n",
            "     12        \u001b[36m0.0396\u001b[0m        \u001b[32m0.0393\u001b[0m  3.9544\n",
            "     13        \u001b[36m0.0384\u001b[0m        \u001b[32m0.0384\u001b[0m  4.0461\n",
            "     14        \u001b[36m0.0380\u001b[0m        \u001b[32m0.0381\u001b[0m  4.3028\n",
            "     15        \u001b[36m0.0378\u001b[0m        \u001b[32m0.0379\u001b[0m  3.5223\n",
            "     16        \u001b[36m0.0375\u001b[0m        \u001b[32m0.0370\u001b[0m  3.6748\n",
            "     17        \u001b[36m0.0362\u001b[0m        \u001b[32m0.0359\u001b[0m  4.3133\n",
            "     18        \u001b[36m0.0356\u001b[0m        \u001b[32m0.0356\u001b[0m  4.1449\n",
            "     19        \u001b[36m0.0353\u001b[0m        \u001b[32m0.0354\u001b[0m  4.1330\n",
            "     20        \u001b[36m0.0352\u001b[0m        \u001b[32m0.0353\u001b[0m  4.3622\n",
            "     21        \u001b[36m0.0351\u001b[0m        \u001b[32m0.0352\u001b[0m  4.0286\n",
            "     22        \u001b[36m0.0350\u001b[0m        \u001b[32m0.0351\u001b[0m  3.7530\n",
            "     23        \u001b[36m0.0347\u001b[0m        \u001b[32m0.0343\u001b[0m  3.1670\n",
            "     24        \u001b[36m0.0331\u001b[0m        \u001b[32m0.0326\u001b[0m  4.1271\n",
            "     25        \u001b[36m0.0318\u001b[0m        \u001b[32m0.0313\u001b[0m  3.9614\n",
            "     26        \u001b[36m0.0306\u001b[0m        \u001b[32m0.0306\u001b[0m  4.0085\n",
            "     27        \u001b[36m0.0298\u001b[0m        \u001b[32m0.0296\u001b[0m  4.0126\n",
            "     28        \u001b[36m0.0284\u001b[0m        \u001b[32m0.0278\u001b[0m  4.7348\n",
            "     29        \u001b[36m0.0265\u001b[0m        \u001b[32m0.0262\u001b[0m  4.2715\n",
            "     30        \u001b[36m0.0252\u001b[0m        \u001b[32m0.0252\u001b[0m  3.4383\n",
            "     31        \u001b[36m0.0244\u001b[0m        \u001b[32m0.0245\u001b[0m  4.1929\n",
            "     32        \u001b[36m0.0236\u001b[0m        \u001b[32m0.0240\u001b[0m  4.0328\n",
            "     33        \u001b[36m0.0232\u001b[0m        \u001b[32m0.0237\u001b[0m  4.0335\n",
            "     34        \u001b[36m0.0229\u001b[0m        \u001b[32m0.0234\u001b[0m  5.7244\n",
            "     35        \u001b[36m0.0228\u001b[0m        \u001b[32m0.0233\u001b[0m  4.5253\n",
            "     36        \u001b[36m0.0227\u001b[0m        \u001b[32m0.0231\u001b[0m  4.5077\n",
            "     37        \u001b[36m0.0226\u001b[0m        \u001b[32m0.0231\u001b[0m  3.5863\n",
            "     38        \u001b[36m0.0225\u001b[0m        \u001b[32m0.0230\u001b[0m  3.1560\n",
            "     39        \u001b[36m0.0225\u001b[0m        \u001b[32m0.0229\u001b[0m  3.7929\n",
            "     40        \u001b[36m0.0224\u001b[0m        \u001b[32m0.0229\u001b[0m  3.9601\n",
            "     41        \u001b[36m0.0224\u001b[0m        \u001b[32m0.0228\u001b[0m  4.1129\n",
            "     42        \u001b[36m0.0223\u001b[0m        \u001b[32m0.0228\u001b[0m  4.0190\n",
            "     43        \u001b[36m0.0223\u001b[0m        \u001b[32m0.0227\u001b[0m  3.9620\n",
            "     44        \u001b[36m0.0222\u001b[0m        \u001b[32m0.0227\u001b[0m  3.8874\n",
            "     45        \u001b[36m0.0222\u001b[0m        \u001b[32m0.0226\u001b[0m  3.1158\n",
            "     46        \u001b[36m0.0221\u001b[0m        \u001b[32m0.0225\u001b[0m  3.9824\n",
            "     47        \u001b[36m0.0217\u001b[0m        \u001b[32m0.0219\u001b[0m  4.1682\n",
            "     48        \u001b[36m0.0214\u001b[0m        \u001b[32m0.0217\u001b[0m  4.5071\n",
            "     49        \u001b[36m0.0213\u001b[0m        \u001b[32m0.0217\u001b[0m  4.0715\n",
            "     50        \u001b[36m0.0213\u001b[0m        \u001b[32m0.0217\u001b[0m  4.1542\n"
          ]
        },
        {
          "data": {
            "text/plain": [
              "<class '__main__.NeuralNetAE'>[initialized](\n",
              "  module_=SimpleAE(\n",
              "    (encoder): Sequential(\n",
              "      (0): Linear(in_features=784, out_features=20, bias=True)\n",
              "      (1): Sigmoid()\n",
              "    )\n",
              "    (decoder): Sequential(\n",
              "      (0): Linear(in_features=20, out_features=784, bias=True)\n",
              "      (1): Sigmoid()\n",
              "    )\n",
              "  ),\n",
              ")"
            ]
          },
          "execution_count": 14,
          "metadata": {},
          "output_type": "execute_result"
        }
      ],
      "source": [
        "recons_image = ReconsImage()\n",
        "\n",
        "trainer = NeuralNetAE(\n",
        "    # models\n",
        "    SimpleAE(28**2, LATENT_DIM),\n",
        "    optimizer= optim.Adam,\n",
        "    criterion = nn.MSELoss,\n",
        "\n",
        "    # hyper-params\n",
        "    lr = LEARNING_RATE,\n",
        "    batch_size=BATCH_SIZE,\n",
        "    max_epochs = MAX_EPOCHS,\n",
        "    device = DEVICE,\n",
        "    train_split=skorch.dataset.ValidSplit(5), # 0.2 を valid setとして利用\n",
        "\n",
        "    # callbacks\n",
        "    callbacks=[(\"recons_image\", recons_image)]\n",
        ")\n",
        "# prepare datasets\n",
        "dataset = load_MNIST_skorch()\n",
        "train_dataset = dataset[\"train\"]\n",
        "y_train = np.array([y for x, y in iter(train_dataset)]) # y_trainはダミーです．np.zeros(len(train_dataset))でもOK．\n",
        "\n",
        "# training start!\n",
        "trainer.fit(train_dataset, y_train)"
      ]
    },
    {
      "cell_type": "markdown",
      "metadata": {
        "id": "u25ZjWOJOXOy"
      },
      "source": [
        "::::{admonition} skorchを使わない場合の訓練スクリプト\n",
        ":class: dropdown\n",
        "\n",
        "```python\n",
        "DEVICE = \"cuda:0\" if torch.cuda.is_available() else \"cpu\"\n",
        "LATENT_DIM = 20\n",
        "LEARNING_RATE = 0.01\n",
        "MAX_EPOCHS = 50\n",
        "BATCH_SIZE = 128\n",
        "data_loader = load_MNIST(batch=BATCH_SIZE)\n",
        "model = SimpleAE(np.prod(img.size()), LATENT_DIM).to(DEVICE)\n",
        "criterion = nn.MSELoss()\n",
        "optimizer = optim.Adam(model.parameters(), lr=LEARNING_RATE)\n",
        "\n",
        "\n",
        "#学習結果の保存\n",
        "history = {\n",
        "    \"train_loss\": [],\n",
        "    \"validation_loss\": [],\n",
        "    \"validation_acc\": [],\n",
        "    \"frames\": [],\n",
        "}\n",
        "\n",
        "\"\"\"学習過程の可視化\"\"\"\n",
        "# 訓練中に利用する画像を用意しておく\n",
        "sample_imgs = get_sample()\n",
        "\n",
        "# プロットの雛形を用意しておく\n",
        "fig_anime = plt.figure(figsize=[15,5])\n",
        "axs = []\n",
        "for i in range(20):\n",
        "    axs.append(fig_anime.add_subplot(2,10,i+1))\n",
        "\"\"\"/学習過程の可視化\"\"\"\n",
        "\n",
        "for epoch in trange(MAX_EPOCHS):\n",
        "    # training step\n",
        "    loss = None\n",
        "    train_loss = 0.0\n",
        "    model.train()\n",
        "    for i,(x,y) in enumerate(data_loader[\"train\"]):\n",
        "        x,y = x.to(DEVICE),y.to(DEVICE)\n",
        "        x = x.view(x.shape[0], -1)\n",
        "        # 勾配の初期化\n",
        "        optimizer.zero_grad()\n",
        "        # 順伝搬 -> 逆伝搬 -> 最適化\n",
        "        x_hat = model(x)\n",
        "        loss = criterion(x_hat, x)\n",
        "        train_loss += loss.item()\n",
        "        loss.backward()\n",
        "        optimizer.step()\n",
        "    train_loss /= len(data_loader[\"train\"])\n",
        "    history[\"train_loss\"].append(float(train_loss))\n",
        "\n",
        "    \"\"\"validation step\"\"\"\n",
        "    model.eval()\n",
        "    val_loss = 0.0\n",
        "\n",
        "    with torch.no_grad():\n",
        "        for x,y in data_loader[\"validation\"]:\n",
        "            x,y = x.to(DEVICE),y.to(DEVICE)\n",
        "            x = x.view(x.shape[0], -1)\n",
        "            x_hat = model(x)\n",
        "            val_loss = criterion(x_hat,x)\n",
        "\n",
        "    val_loss /= len(data_loader[\"validation\"])\n",
        "    #print(\"Validation loss: {}\\n\".format(val_loss))\n",
        "    history[\"validation_loss\"].append(float(val_loss))\n",
        "    \n",
        "    \"\"\"学習過程の可視化\"\"\"\n",
        "    model.eval()\n",
        "    with torch.no_grad():\n",
        "        history[\"frames\"].append([])\n",
        "        for i in range(10):\n",
        "            art1 = axs[i].imshow(sample_imgs[i].view(-1,28).detach().cpu().numpy(),\n",
        "                          cmap='gray')\n",
        "            sample_hat = model(sample_imgs[i].view([1,-1]).to(DEVICE))\n",
        "            history[\"frames\"][-1].append(art1)\n",
        "            art2 = axs[i+10].imshow(sample_hat.view(-1,28).detach().cpu().numpy(),\n",
        "                             cmap=\"gray\")\n",
        "            history[\"frames\"][-1].append(art2)\n",
        "    \"\"\"/学習過程の可視化\"\"\"\n",
        "    \n",
        "plt.close(fig_anime) # 余計な図を表示させないようにする\n",
        "```\n",
        "\n",
        "::::"
      ]
    },
    {
      "cell_type": "markdown",
      "metadata": {
        "id": "LLHC311mOXOy"
      },
      "source": [
        "損失関数の可視化"
      ]
    },
    {
      "cell_type": "markdown",
      "metadata": {
        "id": "KIvVYn5zOXOy"
      },
      "source": [
        "これでAEの訓練が完了したはずです．もちろんmax_epochsやlearning rateのようなハイパーパラメータの設定をより良いものに変えることで，もっと良いものにできる可能性はあります．興味があれば試してみてください．"
      ]
    },
    {
      "cell_type": "markdown",
      "metadata": {
        "id": "vmZ2ef0EOXOy"
      },
      "source": [
        "### 訓練過程のモニタリング"
      ]
    },
    {
      "cell_type": "markdown",
      "metadata": {
        "id": "feKPfvlOOXOy"
      },
      "source": [
        "##### 損失関数のモニタリング"
      ]
    },
    {
      "cell_type": "markdown",
      "metadata": {
        "id": "boACTbKPOXOy"
      },
      "source": [
        "損失関数の値の変化を見ると，40エポックを過ぎたあたりで値が収束し始めていることがわかります．"
      ]
    },
    {
      "cell_type": "code",
      "execution_count": 15,
      "metadata": {
        "id": "b1FuN7Y5OXOy"
      },
      "outputs": [
        {
          "data": {
            "image/png": "[encoded data removed]",
            "text/plain": [
              "<Figure size 1500x400 with 3 Axes>"
            ]
          },
          "metadata": {},
          "output_type": "display_data"
        }
      ],
      "source": [
        "def plot_loss(history, save_path=None):\n",
        "    fig = plt.figure(figsize=[15,4])\n",
        "    fig.suptitle(\"Reconstruction Error\")\n",
        "    fig.supxlabel(\"Epoch\")\n",
        "    fig.supylabel(\"MSE\")\n",
        "\n",
        "    ax = fig.add_subplot(1,3,1)\n",
        "    ax.set_title(\"training loss and validation loss\")\n",
        "    ax.plot(history[:,\"valid_loss\"], label=\"validation_loss\", color=\"red\")\n",
        "    ax.plot(history[:,\"train_loss\"], label=\"train_loss\", color=\"blue\")\n",
        "    ax.legend()\n",
        "\n",
        "\n",
        "    ax2 = fig.add_subplot(1,3,2)\n",
        "    ax2.set_title(\"training loss\")\n",
        "    ax2.plot(history[:,\"train_loss\"], label=\"train_loss\", color=\"blue\")\n",
        "\n",
        "    ax3 = fig.add_subplot(1,3,3)\n",
        "    ax3.set_title(\"validation loss\")\n",
        "    ax3.plot(history[:,\"valid_loss\"], label=\"validation_loss\", color=\"red\")\n",
        "\n",
        "    if save_path is not None:\n",
        "        fig.savefig(save_path)\n",
        "    plt.close()\n",
        "    return fig\n",
        "\n",
        "fig = plot_loss(trainer.history)\n",
        "display(fig)"
      ]
    },
    {
      "cell_type": "markdown",
      "metadata": {
        "id": "6hDRn3hOOXOy"
      },
      "source": [
        "::::{admonition} skorchを利用しない場合\n",
        ":class: dropdown\n",
        "\n",
        "```python\n",
        "def plot_loss(history, save_path=None):\n",
        "    fig = plt.figure(figsize=[15,4])\n",
        "    fig.suptitle(\"Reconstruction Error\")\n",
        "    fig.supxlabel(\"Epoch\")\n",
        "    fig.supylabel(\"MSE\")\n",
        "\n",
        "    ax = fig.add_subplot(1,3,1)\n",
        "    ax.set_title(\"training loss and validation loss\")\n",
        "    ax.plot(history[\"validation_loss\"], label=\"validation_loss\", color=\"red\")\n",
        "    ax.plot(history[\"train_loss\"], label=\"train_loss\", color=\"blue\")\n",
        "    ax.legend()\n",
        "\n",
        "\n",
        "    ax2 = fig.add_subplot(1,3,2)\n",
        "    ax2.set_title(\"training loss\")\n",
        "    ax2.plot(history[\"train_loss\"], label=\"train_loss\", color=\"blue\")\n",
        "\n",
        "    ax3 = fig.add_subplot(1,3,3)\n",
        "    ax3.set_title(\"validation loss\")\n",
        "    ax3.plot(history[\"validation_loss\"], label=\"validation_loss\", color=\"red\")\n",
        "\n",
        "    if save_path is not None:\n",
        "        fig.savefig(save_path)\n",
        "    plt.close()\n",
        "    return fig\n",
        "\n",
        "fig = plot_loss(history)\n",
        "display(fig)\n",
        "```"
      ]
    },
    {
      "cell_type": "markdown",
      "metadata": {
        "id": "XtHWpSudOXOz"
      },
      "source": [
        "#### 再構築画像のモニタリング"
      ]
    },
    {
      "cell_type": "markdown",
      "metadata": {
        "id": "DWVH_mTKOXOz"
      },
      "source": [
        "訓練を重ねるごと（epochごと）に，AEがどれだけ上手く画像を再現できるようになったのかを確認してみましょう．上の学習がうまくいった方は，既に表示されているアニメーションを確認してください．また，以下に事前に訓練を行った際に作成したアニメーションを示しました．これらから，AEが徐々に上手く画像の再構成ができるようになっていることがわかると思います．"
      ]
    },
    {
      "cell_type": "code",
      "execution_count": 16,
      "metadata": {
        "id": "53z6tovUOXOz"
      },
      "outputs": [
        {
          "ename": "FileNotFoundError",
          "evalue": "[Errno 2] No such file or directory: './figs/ae/autoencoder_mnist.html'",
          "output_type": "error",
          "traceback": [
            "\u001b[0;31m---------------------------------------------------------------------------\u001b[0m",
            "\u001b[0;31mFileNotFoundError\u001b[0m                         Traceback (most recent call last)",
            "Cell \u001b[0;32mIn[16], line 1\u001b[0m\n\u001b[0;32m----> 1\u001b[0m \u001b[39mwith\u001b[39;00m \u001b[39mopen\u001b[39;49m(\u001b[39m\"\u001b[39;49m\u001b[39m./figs/ae/autoencoder_mnist.html\u001b[39;49m\u001b[39m\"\u001b[39;49m, \u001b[39m\"\u001b[39;49m\u001b[39mr\u001b[39;49m\u001b[39m\"\u001b[39;49m) \u001b[39mas\u001b[39;00m f:\n\u001b[1;32m      2\u001b[0m     anim_html \u001b[39m=\u001b[39m f\u001b[39m.\u001b[39mread()\n\u001b[1;32m      4\u001b[0m display(HTML(anim_html))\n",
            "File \u001b[0;32m~/miniforge3/envs/class/lib/python3.9/site-packages/IPython/core/interactiveshell.py:284\u001b[0m, in \u001b[0;36m_modified_open\u001b[0;34m(file, *args, **kwargs)\u001b[0m\n\u001b[1;32m    277\u001b[0m \u001b[39mif\u001b[39;00m file \u001b[39min\u001b[39;00m {\u001b[39m0\u001b[39m, \u001b[39m1\u001b[39m, \u001b[39m2\u001b[39m}:\n\u001b[1;32m    278\u001b[0m     \u001b[39mraise\u001b[39;00m \u001b[39mValueError\u001b[39;00m(\n\u001b[1;32m    279\u001b[0m         \u001b[39mf\u001b[39m\u001b[39m\"\u001b[39m\u001b[39mIPython won\u001b[39m\u001b[39m'\u001b[39m\u001b[39mt let you open fd=\u001b[39m\u001b[39m{\u001b[39;00mfile\u001b[39m}\u001b[39;00m\u001b[39m by default \u001b[39m\u001b[39m\"\u001b[39m\n\u001b[1;32m    280\u001b[0m         \u001b[39m\"\u001b[39m\u001b[39mas it is likely to crash IPython. If you know what you are doing, \u001b[39m\u001b[39m\"\u001b[39m\n\u001b[1;32m    281\u001b[0m         \u001b[39m\"\u001b[39m\u001b[39myou can use builtins\u001b[39m\u001b[39m'\u001b[39m\u001b[39m open.\u001b[39m\u001b[39m\"\u001b[39m\n\u001b[1;32m    282\u001b[0m     )\n\u001b[0;32m--> 284\u001b[0m \u001b[39mreturn\u001b[39;00m io_open(file, \u001b[39m*\u001b[39;49margs, \u001b[39m*\u001b[39;49m\u001b[39m*\u001b[39;49mkwargs)\n",
            "\u001b[0;31mFileNotFoundError\u001b[0m: [Errno 2] No such file or directory: './figs/ae/autoencoder_mnist.html'"
          ]
        }
      ],
      "source": [
        "with open(\"./figs/ae/autoencoder_mnist.html\", \"r\") as f:\n",
        "    anim_html = f.read()\n",
        "\n",
        "display(HTML(anim_html))\n",
        "display(Markdown(\"アニメーション①：「AEの学習の様子」．（上段：オリジナルの画像，下段：再構築した画像．シークバーを進めるとepochが進みます．\"))"
      ]
    },
    {
      "cell_type": "markdown",
      "metadata": {
        "id": "X6gr4oXGOXOz"
      },
      "source": [
        "上記のアニメーションは以下のコードで作成できます．"
      ]
    },
    {
      "cell_type": "code",
      "execution_count": null,
      "metadata": {
        "id": "_qeba7aPOXOz"
      },
      "outputs": [],
      "source": [
        "anim = ArtistAnimation(recons_image.fig_anime, recons_image.frames, interval=150)\n",
        "dt_now = datetime.now().strftime('%Y年%m月%d日%H時%M分%S秒')\n",
        "#anim.save(f\"autoencoder_mnist-{dt_now}.gif\") # 今回は実験終了時間をファイル名に含めることにします．\n",
        "#with open(f\"autoencoder_mnist-{dt_now}.html\", \"w\") as f:\n",
        "#    f.write(anim.to_jshtml())\n",
        "\n",
        "display(HTML(anim.to_jshtml()))"
      ]
    },
    {
      "cell_type": "markdown",
      "metadata": {
        "id": "xL_uj82iOXOz"
      },
      "source": [
        "### 潜在空間の可視化"
      ]
    },
    {
      "cell_type": "markdown",
      "metadata": {
        "id": "eaS-VO63OXOz"
      },
      "source": [
        "今回作ったAEでは，Encoder側出力は入力された画像を20次元の潜在的空間の点として表現しています．潜在空間上でどのように画像が点として描かれるのかを見るには，20次元だと可視化することが難しいので，どうにかして2次元の潜在空間上の点になるようにする必要があります．しかしながら，LATENT_DIM=2に設定して再訓練してもうまく行きません．\n",
        "\n",
        "例として，LATENT_DIM=2として訓練したAEを使い，テストデータを散布図として表示してみることにします．\n",
        "![](figs/ae/ae_mnist_2d_scatter.png)"
      ]
    },
    {
      "cell_type": "markdown",
      "metadata": {
        "id": "mmvrOuw3OXOz"
      },
      "source": [
        "テストデータの画像はクラスごとに何かしらの特徴を持っているはずなので，潜在空間の中でもある程度はクラスごとにグルーピングされていると嬉しいはずです．しかしながら上の散布図は全くの不規則に散らばっているように見えます．これは潜在空間の次元数が2だけだと，AEの学習がうまくいっていないことを示しています．\n",
        "\n",
        "学習がうまくいっていないことを確認するために，画像の再構成結果を示します．\n",
        "\n",
        "![](./figs/ae/ae_2d_recons.png)\n",
        "\n",
        "20次元の時とは異なり，まったく再現できていないことが分かりました．AEで直接2次元に圧縮するのは（このままだと）難しいようです．"
      ]
    },
    {
      "cell_type": "markdown",
      "metadata": {
        "id": "gYrXMmNPOXOz"
      },
      "source": [
        "そこでここでは，可視化のための時限削減アルゴリズムであるt-SNE{cite}`Van_der_Maaten2008-jw`を利用して，以下の条件で作成した画像を見比べることで「潜在空間がどれだけ重要な情報を残せているのか」をチェックしてみます．\n",
        "1. 画像をそのままt-SNEで2次元に圧縮して作成した散布図\n",
        "2. 画像をAEで2次元に圧縮した後に，t-SNEで2次元に圧縮して作成した散布図\n",
        "3. 画像をAEで20次元に圧縮した後に，t-SNEで2次元に圧縮して作成した散布図"
      ]
    },
    {
      "cell_type": "markdown",
      "metadata": {
        "id": "xfKht0M6OXOz"
      },
      "source": [
        "::::{admonition} t-SNEを使った散布図の作成\n",
        ":class: dropdown\n",
        "\n",
        "step 1: 全てのテストデータを潜在表現に変換します．\n",
        "\n",
        "```python\n",
        "def transform(model:SimpleAE, dataloader:DataLoader)->dict:\n",
        "    model.eval()\n",
        "    embedded_matrix = []\n",
        "    X_test = []\n",
        "    labels = []\n",
        "    device = \"cuda:0\" if next(model.parameters()).is_cuda else \"cpu\"\n",
        "    for batch in dataloader:\n",
        "        x,y = batch\n",
        "        x = x.to(device)\n",
        "        z = model.encoder(x.view(x.shape[0],-1))\n",
        "        embedded_matrix.append(z.detach().cpu().numpy())\n",
        "        labels.append(y.detach().cpu().numpy())\n",
        "        X_test.append(x.view(x.shape[0],-1).detach().cpu().numpy())\n",
        "    embedded_matrix = np.vstack(embedded_matrix)\n",
        "    labels = np.hstack(labels)\n",
        "    X_test = np.vstack(X_test)\n",
        "    return {\"埋め込みベクトル\": embedded_matrix,\n",
        "            \"labels\": labels,\n",
        "            }\n",
        "\n",
        "model = trainer.module_\n",
        "output = transform(model, data_loader[\"test\"])\n",
        "```\n",
        "\n",
        "step2: TSNEを使って2次元に圧縮します．\n",
        "\n",
        "```python\n",
        "tsne = TSNE()\n",
        "E = tsne.fit_transform(output[\"埋め込みベクトル\"])\n",
        "```\n",
        "\n",
        "step3: matplotlibを使って2次元散布図を作成します．\n",
        "\n",
        "```python\n",
        "FILE_PATH = \"./figs/ae/ae20_tsne_mnist_2d_scatter\"\n",
        "FIG_TITLE = \"Scatter plot of MNIST based on AutoEncoder\"\n",
        "\n",
        "fig_2d = plt.figure(figsize=[10,10])\n",
        "fig_2d.suptitle(FIG_TITLE)\n",
        "ax = fig_2d.add_subplot()\n",
        "for label in sorted(set(output[\"labels\"])):\n",
        "    mask = output[\"labels\"] == label\n",
        "    ax.scatter(E[:,0][mask], E[:,1][mask], label=label)\n",
        "    ax.set_xlabel(\"component 1\")\n",
        "    ax.set_ylabel(\"component 2\")\n",
        "    ax.legend()\n",
        "\n",
        "fig_2d.savefig(FILE_PATH)\n",
        "fig_2d.show()\n",
        "```\n",
        "\n",
        "::::"
      ]
    },
    {
      "cell_type": "markdown",
      "metadata": {
        "id": "qulGlIGAOXOz"
      },
      "source": [
        "::::{tab-set}\n",
        ":::{tab-item} 1の画像\n",
        "![](./figs/ae/tsne_mnist_2d_scatter.png)\n",
        "\n",
        "（１）TSNEで元のデータセットを2次元散布図にした所，クラスごとにグループになって表示されていることがわかります．\n",
        ":::\n",
        "\n",
        ":::{tab-item} 2の画像\n",
        "![](./figs/ae/ae2_tsne_mnist_2d_scatter.png)\n",
        "\n",
        "（２）AEで2次元にした後にTSNEにかけたものは，クラスごとにまとまった様子はありません．\n",
        ":::\n",
        "\n",
        ":::{tab-item} 3の画像\n",
        "![](./figs/ae/ae20_tsne_mnist_2d_scatter.png)\n",
        "\n",
        "（３）AEで20次元にした後にTSNEにかけたものは，（１）と同じようにクラスごとにグループになって表示されているようです．\n",
        ":::\n",
        "\n",
        "::::"
      ]
    },
    {
      "cell_type": "markdown",
      "metadata": {
        "id": "8_drhRwyOXOz"
      },
      "source": [
        "2次元空間はあくまでも相対的なものなので，クラスごとの位置関係が（１）と（３）で変わっていることには目を瞑ってください．ここから分かることは，クラスに関する何かしらの情報を（１）と（３）は保持しているのに対して，（２）はそれが欠落しているということです．AEでは際限なく小さな次元にデータを圧縮できるわけではなく，圧縮率を上げると情報が落ちすぎて無意味になる場合があることを覚えておきましょう．\n",
        "\n"
      ]
    },
    {
      "cell_type": "markdown",
      "metadata": {
        "id": "XoGOhH1OOXOz"
      },
      "source": [
        "## 参考文献\n",
        "\n",
        "```{bibliography}\n",
        ":filter: docname in docnames\n",
        "```"
      ]
    },
    {
      "cell_type": "markdown",
      "metadata": {
        "id": "w-YRzSGyOXO0"
      },
      "source": []
    }
  ],
  "metadata": {
    "accelerator": "GPU",
    "colab": {
      "gpuType": "T4",
      "include_colab_link": true,
      "provenance": []
    },
    "kernelspec": {
      "display_name": "Python 3",
      "name": "python3"
    },
    "language_info": {
      "codemirror_mode": {
        "name": "ipython",
        "version": 3
      },
      "file_extension": ".py",
      "mimetype": "text/x-python",
      "name": "python",
      "nbconvert_exporter": "python",
      "pygments_lexer": "ipython3",
      "version": "3.9.16"
    },
    "orig_nbformat": 4
  },
  "nbformat": 4,
  "nbformat_minor": 0
}
