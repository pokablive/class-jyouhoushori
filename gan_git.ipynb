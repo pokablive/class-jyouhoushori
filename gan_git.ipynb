{
  "cells": [
    {
      "cell_type": "markdown",
      "metadata": {
        "id": "view-in-github",
        "colab_type": "text"
      },
      "source": [
        "<a href=\"https://colab.research.google.com/github/pokablive/class-jyouhoushori/blob/main/gan_git.ipynb\" target=\"_parent\"><img src=\"https://colab.research.google.com/assets/colab-badge.svg\" alt=\"Open In Colab\"/></a>"
      ]
    },
    {
      "cell_type": "markdown",
      "metadata": {
        "id": "7lWUFHubSKqO"
      },
      "source": [
        "# Generative Adversarial Network\n",
        "\n",
        "GAN，敵対的生成ネットワーク{cite}`Goodfellow2014-eg`"
      ]
    },
    {
      "cell_type": "code",
      "execution_count": null,
      "metadata": {
        "tags": [
          "hide-input"
        ],
        "id": "WbONG1YESKqQ"
      },
      "outputs": [],
      "source": [
        "# packageのimport\n",
        "from typing import Any, Union, Callable, Type, TypeVar\n",
        "from tqdm.std import trange,tqdm\n",
        "import numpy as np\n",
        "import numpy.typing as npt\n",
        "import pandas as pd\n",
        "import matplotlib.pyplot as plt\n",
        "import plotly.express as px\n",
        "import seaborn as sns\n",
        "from PIL import Image\n",
        "import cv2\n",
        "import requests\n",
        "\n",
        "# pytorch関連のimport\n",
        "import torch\n",
        "import torch.nn as nn\n",
        "import torch.nn.functional as F\n",
        "import torch.optim as optim\n",
        "import torchvision\n",
        "import torchvision.transforms as transforms"
      ]
    },
    {
      "cell_type": "code",
      "execution_count": null,
      "metadata": {
        "id": "NEwbHt1ESKqR"
      },
      "outputs": [],
      "source": [
        "from src import utils\n",
        "SEED = 2023_7_17\n",
        "utils.set_seed(SEED)"
      ]
    },
    {
      "cell_type": "markdown",
      "metadata": {
        "id": "YYecFrYgSKqS"
      },
      "source": [
        "## GANの仕組み"
      ]
    },
    {
      "cell_type": "markdown",
      "metadata": {
        "id": "jt3KEpRUSKqS"
      },
      "source": [
        "GANは俗にいう __生成モデル__ の一つであり，__Generator__ と __Discriminator__ の二つのネットワークを互いに競争させるように訓練を行うことで品質の良いデータを生成できるようにしたモデルです．"
      ]
    },
    {
      "cell_type": "markdown",
      "metadata": {
        "id": "652gXDjLSKqS"
      },
      "source": [
        "### 贋作者と鑑定士"
      ]
    },
    {
      "cell_type": "markdown",
      "metadata": {
        "id": "pRsa-JULSKqS"
      },
      "source": [
        "画像を生成することを例に考えていきましょう．  \n",
        "Generatorは贋作者と例えられます．これは本物の画像のような偽物の画像を生成するネットワークです．ネットワークはランダムなノイズベクトルを入力として受け取り，全結合層やDeconvolutionのようなレイヤーを持つネットワークを使って画像を生成します．\n",
        "\n",
        "> ![](https://jp.mathworks.com/help/deeplearning/ug/traingenerativeadversarialnetworkganexample_01_ja_JP.png)\n",
        "> 出典：[敵対的生成ネットワーク (GAN) の学習 - MATLAB & Simulink - MathWorks 日本](https://jp.mathworks.com/help/deeplearning/ug/train-generative-adversarial-network.html)\n",
        "\n",
        "これに対してDiscriminatorは鑑定士とも例えられます．入力された画像が本物の画像か，それともGeneratorが生成した偽物なのかを判別するだけの二値分類器です．\n",
        "\n",
        "Discriminatorが本物と偽物を分類する能力を上げるごとに，Generatorはこれを騙せるような高品質の画像を生成できるように能力を上げていきます．つまり二つのネットワークはイタチごっこのようにそれぞれの能力を向上させるのです．\n",
        "\n",
        "> ![](https://jp.mathworks.com/help/deeplearning/ug/traingenerativeadversarialnetworkganexample_02_ja_JP.png)\n",
        "> 出典：[敵対的生成ネットワーク (GAN) の学習 - MATLAB & Simulink - MathWorks 日本](https://jp.mathworks.com/help/deeplearning/ug/train-generative-adversarial-network.html)"
      ]
    },
    {
      "cell_type": "markdown",
      "metadata": {
        "id": "pod9NoTqSKqT"
      },
      "source": [
        "#### Generator (贋作者)"
      ]
    },
    {
      "cell_type": "markdown",
      "metadata": {
        "id": "GoFuvm8PSKqT"
      },
      "source": [
        "mnistのような簡単なデータを生成するネットワークを用意します．ネットワークはただのMLPです．"
      ]
    },
    {
      "cell_type": "code",
      "execution_count": null,
      "metadata": {
        "id": "1aUfYrvhSKqT"
      },
      "outputs": [],
      "source": [
        "class Reshape(nn.Module):\n",
        "    def __init__(self, img_shape:tuple[int]) -> None:\n",
        "        super().__init__()\n",
        "        self.img_shape = img_shape\n",
        "\n",
        "    def forward(self,x:torch.Tensor)->torch.Tensor:\n",
        "        return x.view((x.shape[0], *self.img_shape))\n",
        "\n",
        "    def extra_repr(self) -> str:\n",
        "        return 'in_features={}, out_img_shape={}'.format(\n",
        "            np.prod(self.img_shape),self.img_shape,\n",
        "        )"
      ]
    },
    {
      "cell_type": "code",
      "execution_count": null,
      "metadata": {
        "id": "PdIk7vvUSKqT"
      },
      "outputs": [],
      "source": [
        "def build_generator(in_features:int, out_features:int)->nn.Sequential:\n",
        "    img_shape = (int(out_features**(1/2)), int(out_features**(1/2)))\n",
        "    return nn.Sequential(\n",
        "        nn.Linear(in_features, 200),\n",
        "        nn.ReLU(),\n",
        "        nn.Linear(200,500),\n",
        "        nn.ReLU(),\n",
        "        nn.Linear(500, out_features),\n",
        "        nn.Sigmoid(),\n",
        "        Reshape(img_shape),\n",
        "    )"
      ]
    },
    {
      "cell_type": "markdown",
      "metadata": {
        "id": "iydXkxp8SKqU"
      },
      "source": [
        "試してみましょう．"
      ]
    },
    {
      "cell_type": "code",
      "execution_count": null,
      "metadata": {
        "id": "7Ccflxd2SKqU",
        "outputId": "0dd966bb-505c-4d08-c485-6d90185902f7"
      },
      "outputs": [
        {
          "data": {
            "text/plain": [
              "torch.Size([1, 28, 28])"
            ]
          },
          "execution_count": 45,
          "metadata": {},
          "output_type": "execute_result"
        }
      ],
      "source": [
        "_generator = build_generator(50, 28*28)\n",
        "noise = torch.randn([1,50])\n",
        "noise.shape\n",
        "fake = _generator(noise)\n",
        "fake.shape"
      ]
    },
    {
      "cell_type": "markdown",
      "metadata": {
        "id": "Gj3vEi5ISKqU"
      },
      "source": [
        "初期状態で生成した画像を表示してみます．"
      ]
    },
    {
      "cell_type": "code",
      "execution_count": null,
      "metadata": {
        "id": "0fjB1rBdSKqU",
        "outputId": "0da86e47-5d56-47f7-af30-c48628be95fb"
      },
      "outputs": [
        {
          "data": {
            "text/plain": [
              "<matplotlib.image.AxesImage at 0x12b3a3100>"
            ]
          },
          "execution_count": 46,
          "metadata": {},
          "output_type": "execute_result"
        },
        {
          "data": {
            "image/png": "[encoded data removed]",
            "text/plain": [
              "<Figure size 640x480 with 1 Axes>"
            ]
          },
          "metadata": {},
          "output_type": "display_data"
        }
      ],
      "source": [
        "plt.title(\"Generated image\")\n",
        "plt.imshow(fake.cpu().detach().numpy()[0])"
      ]
    },
    {
      "cell_type": "markdown",
      "metadata": {
        "id": "b2RAkhgzSKqU"
      },
      "source": [
        "#### Discriminator (鑑定士)"
      ]
    },
    {
      "cell_type": "markdown",
      "metadata": {
        "id": "f37M8f-iSKqU"
      },
      "source": [
        "入力されたデータが正解ならば1，偽物だったら0を返すネットワークを作成します．これもネットワークはただのMLPです．"
      ]
    },
    {
      "cell_type": "code",
      "execution_count": null,
      "metadata": {
        "id": "09sCETCXSKqU"
      },
      "outputs": [],
      "source": [
        "def build_discriminator(in_features:int)->nn.Sequential:\n",
        "    return nn.Sequential(\n",
        "        nn.Flatten(),\n",
        "        nn.Linear(in_features, 200),\n",
        "        nn.ReLU(),\n",
        "        nn.Linear(200, 200),\n",
        "        nn.ReLU(),\n",
        "        nn.Linear(200,1),\n",
        "        nn.Sigmoid(),\n",
        "    )"
      ]
    },
    {
      "cell_type": "markdown",
      "metadata": {
        "id": "YsZEwUh_SKqV"
      },
      "source": [
        "試してみましょう．"
      ]
    },
    {
      "cell_type": "code",
      "execution_count": null,
      "metadata": {
        "id": "wQX-UyKySKqV",
        "outputId": "11d13be5-23ec-4588-a1ae-71ab7f4d6667"
      },
      "outputs": [
        {
          "data": {
            "text/plain": [
              "tensor([[0.5022]], grad_fn=<SigmoidBackward0>)"
            ]
          },
          "execution_count": 48,
          "metadata": {},
          "output_type": "execute_result"
        }
      ],
      "source": [
        "_discriminator = build_discriminator(28*28)\n",
        "_discriminator(fake) # 0が偽物，1が本物"
      ]
    },
    {
      "cell_type": "markdown",
      "metadata": {
        "id": "xUeyShNlSKqV"
      },
      "source": [
        "### 損失関数"
      ]
    },
    {
      "cell_type": "markdown",
      "metadata": {
        "id": "A4GYYrrbSKqV"
      },
      "source": [
        "`nn.BCELoss`を利用します．"
      ]
    },
    {
      "cell_type": "code",
      "execution_count": null,
      "metadata": {
        "id": "VYOrWESxSKqV"
      },
      "outputs": [],
      "source": []
    },
    {
      "cell_type": "markdown",
      "metadata": {
        "id": "KXI1yx0DSKqV"
      },
      "source": [
        "### 訓練の流れ"
      ]
    },
    {
      "cell_type": "markdown",
      "metadata": {
        "id": "NAkgqdz3SKqV"
      },
      "source": [
        "識別器→生成器の順番に交互に学習してください．\n"
      ]
    },
    {
      "cell_type": "code",
      "execution_count": null,
      "metadata": {
        "id": "KeLYe94QSKqV"
      },
      "outputs": [],
      "source": []
    },
    {
      "cell_type": "markdown",
      "metadata": {
        "id": "ctwdna2hSKqV"
      },
      "source": [
        "### 実験"
      ]
    },
    {
      "cell_type": "markdown",
      "metadata": {
        "id": "RIoZJPDCSKqV"
      },
      "source": []
    },
    {
      "cell_type": "markdown",
      "metadata": {
        "id": "52GYz0kISKqV"
      },
      "source": [
        "#### 実験結果"
      ]
    },
    {
      "cell_type": "markdown",
      "metadata": {
        "id": "2iksJYhcSKqV"
      },
      "source": []
    },
    {
      "cell_type": "markdown",
      "metadata": {
        "id": "GkucBmqxSKqV"
      },
      "source": [
        "## 参考文献\n",
        "\n",
        "### 論文等\n",
        "\n",
        "```{bibliography}\n",
        ":filter: docname in docnames\n",
        "```"
      ]
    },
    {
      "cell_type": "markdown",
      "metadata": {
        "id": "qhscM--6SKqV"
      },
      "source": []
    }
  ],
  "metadata": {
    "kernelspec": {
      "display_name": "datasci",
      "language": "python",
      "name": "python3"
    },
    "language_info": {
      "codemirror_mode": {
        "name": "ipython",
        "version": 3
      },
      "file_extension": ".py",
      "mimetype": "text/x-python",
      "name": "python",
      "nbconvert_exporter": "python",
      "pygments_lexer": "ipython3",
      "version": "3.10.6"
    },
    "orig_nbformat": 4,
    "colab": {
      "provenance": [],
      "include_colab_link": true
    }
  },
  "nbformat": 4,
  "nbformat_minor": 0
}